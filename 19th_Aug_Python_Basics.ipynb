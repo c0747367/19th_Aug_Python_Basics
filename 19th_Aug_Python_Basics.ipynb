{
 "cells": [
  {
   "cell_type": "markdown",
   "id": "76bf9c59",
   "metadata": {},
   "source": [
    "# Topic: Python Basics Variable"
   ]
  },
  {
   "cell_type": "markdown",
   "id": "5761b12f",
   "metadata": {},
   "source": [
    "Q1"
   ]
  },
  {
   "cell_type": "code",
   "execution_count": 116,
   "id": "e40eacbc",
   "metadata": {},
   "outputs": [],
   "source": [
    "x = 25\n",
    "y = 40"
   ]
  },
  {
   "cell_type": "code",
   "execution_count": 117,
   "id": "7c03e78a",
   "metadata": {},
   "outputs": [
    {
     "data": {
      "text/plain": [
       "65"
      ]
     },
     "execution_count": 117,
     "metadata": {},
     "output_type": "execute_result"
    }
   ],
   "source": [
    "x = x+y\n",
    "x"
   ]
  },
  {
   "cell_type": "code",
   "execution_count": 118,
   "id": "12ec400c",
   "metadata": {},
   "outputs": [
    {
     "data": {
      "text/plain": [
       "25"
      ]
     },
     "execution_count": 118,
     "metadata": {},
     "output_type": "execute_result"
    }
   ],
   "source": [
    "y = x - y\n",
    "y"
   ]
  },
  {
   "cell_type": "code",
   "execution_count": 119,
   "id": "c0ba89e1",
   "metadata": {},
   "outputs": [
    {
     "data": {
      "text/plain": [
       "40"
      ]
     },
     "execution_count": 119,
     "metadata": {},
     "output_type": "execute_result"
    }
   ],
   "source": [
    "x = x-y\n",
    "x"
   ]
  },
  {
   "cell_type": "markdown",
   "id": "d000b980",
   "metadata": {},
   "source": [
    "Q2."
   ]
  },
  {
   "cell_type": "code",
   "execution_count": 126,
   "id": "c5a686ff",
   "metadata": {},
   "outputs": [
    {
     "name": "stdout",
     "output_type": "stream",
     "text": [
      "Enter the length = 25\n",
      "Enter the width = 10\n"
     ]
    }
   ],
   "source": [
    "length = int(input(\"Enter the length = \")) \n",
    "width = int(input('Enter the width = '))\n"
   ]
  },
  {
   "cell_type": "code",
   "execution_count": 127,
   "id": "0bafdce2",
   "metadata": {},
   "outputs": [
    {
     "data": {
      "text/plain": [
       "250"
      ]
     },
     "execution_count": 127,
     "metadata": {},
     "output_type": "execute_result"
    }
   ],
   "source": [
    "result = length * width\n",
    "result"
   ]
  },
  {
   "cell_type": "markdown",
   "id": "00d26cf6",
   "metadata": {},
   "source": [
    "Q3."
   ]
  },
  {
   "cell_type": "code",
   "execution_count": 128,
   "id": "cb9a094e",
   "metadata": {},
   "outputs": [
    {
     "name": "stdout",
     "output_type": "stream",
     "text": [
      "Enter the temperature in celsius = 100\n"
     ]
    }
   ],
   "source": [
    "cel = int(input(\"Enter the temperature in celsius = \"))\n"
   ]
  },
  {
   "cell_type": "code",
   "execution_count": 130,
   "id": "07ad0007",
   "metadata": {},
   "outputs": [
    {
     "name": "stdout",
     "output_type": "stream",
     "text": [
      "The tesmperature in Fahrenheit =  212.0\n"
     ]
    }
   ],
   "source": [
    "fah = (cel*(9/5))+ 32\n",
    "print(\"The tesmperature in Fahrenheit = \",fah)"
   ]
  },
  {
   "cell_type": "markdown",
   "id": "edb233d6",
   "metadata": {},
   "source": [
    "# Topic: String based questions"
   ]
  },
  {
   "cell_type": "markdown",
   "id": "b7302517",
   "metadata": {},
   "source": [
    "Q1"
   ]
  },
  {
   "cell_type": "code",
   "execution_count": 133,
   "id": "956cbe8b",
   "metadata": {},
   "outputs": [
    {
     "name": "stdout",
     "output_type": "stream",
     "text": [
      "Enter the string - Vishnu\n"
     ]
    }
   ],
   "source": [
    "String = str(input(\"Enter the string - \"))"
   ]
  },
  {
   "cell_type": "code",
   "execution_count": 134,
   "id": "8a92b4aa",
   "metadata": {},
   "outputs": [
    {
     "name": "stdout",
     "output_type": "stream",
     "text": [
      "6\n"
     ]
    }
   ],
   "source": [
    "print(len(String))"
   ]
  },
  {
   "cell_type": "markdown",
   "id": "a55df05b",
   "metadata": {},
   "source": [
    "Q2"
   ]
  },
  {
   "cell_type": "code",
   "execution_count": 135,
   "id": "36acfc4c",
   "metadata": {},
   "outputs": [
    {
     "name": "stdout",
     "output_type": "stream",
     "text": [
      "Enter the sentence - My name is Vishnu\n"
     ]
    }
   ],
   "source": [
    "String = str(input(\"Enter the sentence - \"))"
   ]
  },
  {
   "cell_type": "code",
   "execution_count": 158,
   "id": "595ea56b",
   "metadata": {},
   "outputs": [
    {
     "data": {
      "text/plain": [
       "['My', 'name', 'is', 'Vishnu']"
      ]
     },
     "execution_count": 158,
     "metadata": {},
     "output_type": "execute_result"
    }
   ],
   "source": [
    "String.split()"
   ]
  },
  {
   "cell_type": "code",
   "execution_count": 191,
   "id": "e4572b7c",
   "metadata": {},
   "outputs": [],
   "source": [
    "vowel_count = sum(1 for i in String if i in 'aeiou')"
   ]
  },
  {
   "cell_type": "code",
   "execution_count": 192,
   "id": "b12c6247",
   "metadata": {},
   "outputs": [
    {
     "data": {
      "text/plain": [
       "5"
      ]
     },
     "execution_count": 192,
     "metadata": {},
     "output_type": "execute_result"
    }
   ],
   "source": [
    "vowel_count"
   ]
  },
  {
   "cell_type": "markdown",
   "id": "9cc9df8b",
   "metadata": {},
   "source": [
    "Q3."
   ]
  },
  {
   "cell_type": "code",
   "execution_count": 194,
   "id": "922dcbce",
   "metadata": {},
   "outputs": [],
   "source": [
    "string = \"vishnu\""
   ]
  },
  {
   "cell_type": "code",
   "execution_count": 195,
   "id": "7566dade",
   "metadata": {},
   "outputs": [],
   "source": [
    "rev = string[::-1]"
   ]
  },
  {
   "cell_type": "code",
   "execution_count": 196,
   "id": "8ef1108c",
   "metadata": {},
   "outputs": [
    {
     "name": "stdout",
     "output_type": "stream",
     "text": [
      "unhsiv\n"
     ]
    }
   ],
   "source": [
    "print(rev)"
   ]
  },
  {
   "cell_type": "markdown",
   "id": "574d44e9",
   "metadata": {},
   "source": [
    "Q4"
   ]
  },
  {
   "cell_type": "code",
   "execution_count": 203,
   "id": "38cb9ea6",
   "metadata": {},
   "outputs": [
    {
     "name": "stdout",
     "output_type": "stream",
     "text": [
      "Enter the string - mom\n"
     ]
    }
   ],
   "source": [
    "string = input(\"Enter the string - \")"
   ]
  },
  {
   "cell_type": "code",
   "execution_count": 204,
   "id": "bf1b2866",
   "metadata": {},
   "outputs": [],
   "source": [
    "rev = string[::-1]"
   ]
  },
  {
   "cell_type": "code",
   "execution_count": 205,
   "id": "35b8203f",
   "metadata": {},
   "outputs": [
    {
     "name": "stdout",
     "output_type": "stream",
     "text": [
      "The given string is a palindrome\n"
     ]
    }
   ],
   "source": [
    "if rev == string:\n",
    "    print(\"The given string is a palindrome\")\n",
    "else:\n",
    "    print(\"The given string is not a palindrome\")"
   ]
  },
  {
   "cell_type": "markdown",
   "id": "cca190af",
   "metadata": {},
   "source": [
    "Q5"
   ]
  },
  {
   "cell_type": "code",
   "execution_count": 217,
   "id": "6d16d702",
   "metadata": {},
   "outputs": [
    {
     "name": "stdout",
     "output_type": "stream",
     "text": [
      "Enter your string -  My name is vishnu \n"
     ]
    }
   ],
   "source": [
    "string = input(\"Enter your string - \")"
   ]
  },
  {
   "cell_type": "code",
   "execution_count": 222,
   "id": "a99a63ab",
   "metadata": {},
   "outputs": [],
   "source": [
    "no_spaces = string.replace(\" \",\"\")"
   ]
  },
  {
   "cell_type": "code",
   "execution_count": 223,
   "id": "ed384e15",
   "metadata": {},
   "outputs": [
    {
     "name": "stdout",
     "output_type": "stream",
     "text": [
      "Mynameisvishnu\n"
     ]
    }
   ],
   "source": [
    "print(no_spaces)"
   ]
  },
  {
   "cell_type": "code",
   "execution_count": null,
   "id": "091882d4",
   "metadata": {},
   "outputs": [],
   "source": []
  }
 ],
 "metadata": {
  "kernelspec": {
   "display_name": "Python 3 (ipykernel)",
   "language": "python",
   "name": "python3"
  },
  "language_info": {
   "codemirror_mode": {
    "name": "ipython",
    "version": 3
   },
   "file_extension": ".py",
   "mimetype": "text/x-python",
   "name": "python",
   "nbconvert_exporter": "python",
   "pygments_lexer": "ipython3",
   "version": "3.10.4"
  }
 },
 "nbformat": 4,
 "nbformat_minor": 5
}
